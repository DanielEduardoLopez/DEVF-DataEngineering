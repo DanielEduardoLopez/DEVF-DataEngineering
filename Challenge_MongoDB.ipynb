{
  "cells": [
    {
      "cell_type": "markdown",
      "metadata": {
        "id": "n55rf1lakRaP"
      },
      "source": [
        "# Challenge: Análisis de reseñas de Amazon\n",
        "\n",
        "¡Hola científica/científico de datos! Aquí tienes el challenge de esta clase.\n",
        "\n",
        "Planteamiento del problema:\n",
        "Imagina que trabajas en Amazon. Te han asignado a la división de análisis de datos de producto.\n",
        "\n",
        "El trabajo de esta división es crucial, una de sus labores principales es recopilar los datos necesarios para implementar un sistema de recomendación de productos.\n",
        "\n",
        "El equipo que implementará el modelo necesita que generemos el código para realizar 5 tareas de consulta. Prepara el código para que puedan realizar esas tareas:\n",
        "\n",
        "1. Obtener el año en el que tuvimos más reseñas (tip: las fechas están como tipo texto, puedes utilizar `regex`).\n",
        "2. Obtener únicamente las reseñas del año obtenido en el punto 1.\n",
        "3. Filtrar las reseñas para quedarnos únicamente con las calificaciones más altas (overall: 5) y las más bajas (overall: 1).\n",
        "4. Mediante un aggregation, obtener las reseñas \"neutrales\" (overall: 3) y añadir un campo extra al resultado con el formato: `label: \"neutral\"`. **NO ESCRIBAS EL VALOR EN LA BASE DE DATOS, SOLO DEBE APARECER EN EL RESULTADO DE LA CONSULTA**\n",
        "5. Obtener el título (summary) y el nombre del autor (reviewerName), de las reseñas con mejores calificaciones (overall: 5).\n",
        "\n",
        "## Instrucciones:\n",
        "\n",
        "- Escribe el código para las tareas antes mencionadas.\n",
        "- Utiliza la base de datos `master-data` presente en nuestro cluster y la colección `amazon`.\n",
        "- Realiza cada tarea en un bloque diferente de código, es decir, no es necesario obtener un solo resultado, más bien, obtendrás un resultado distinto en cada tarea."
      ]
    },
    {
      "cell_type": "markdown",
      "metadata": {
        "id": "9WwsW0KOoNUi"
      },
      "source": [
        "# Paquetes a utilizar"
      ]
    },
    {
      "cell_type": "code",
      "execution_count": 1,
      "metadata": {
        "colab": {
          "base_uri": "https://localhost:8080/"
        },
        "id": "X0L6XMlNxcRq",
        "outputId": "e5975a75-eed5-4aad-d719-837a2591d72c"
      },
      "outputs": [
        {
          "name": "stdout",
          "output_type": "stream",
          "text": [
            "Collecting dnspython\n",
            "  Downloading dnspython-2.2.1-py3-none-any.whl (269 kB)\n",
            "Installing collected packages: dnspython\n",
            "Successfully installed dnspython-2.2.1\n",
            "Collecting pymongo[srv]\n",
            "  Downloading pymongo-4.2.0-cp38-cp38-win_amd64.whl (374 kB)\n",
            "Requirement already satisfied: dnspython<3.0.0,>=1.16.0 in c:\\users\\danieleduardo.eduardo\\anaconda3\\lib\\site-packages (from pymongo[srv]) (2.2.1)\n",
            "Installing collected packages: pymongo\n",
            "Successfully installed pymongo-4.2.0\n"
          ]
        }
      ],
      "source": [
        "\"\"\"Mongo & Utilities\"\"\"\n",
        "# Si quieres ejecutar este notebook localmente o te lanza error colab,\n",
        "# puedes instalar las dependencias manualmente con los siguientes comandos\n",
        "!pip install dnspython\n",
        "!pip install pymongo[srv]\n",
        "import dns\n",
        "from pymongo import MongoClient\n",
        "import pandas as pd\n",
        "import json"
      ]
    },
    {
      "cell_type": "markdown",
      "metadata": {},
      "source": [
        "Creación de la conexión"
      ]
    },
    {
      "cell_type": "code",
      "execution_count": 6,
      "metadata": {},
      "outputs": [],
      "source": [
        "client = MongoClient('')"
      ]
    },
    {
      "cell_type": "markdown",
      "metadata": {},
      "source": [
        "Creación de la base de datos `master-data` y de la colección `amazon`"
      ]
    },
    {
      "cell_type": "code",
      "execution_count": 8,
      "metadata": {},
      "outputs": [],
      "source": [
        "nueva_bd = \"master-data\"\n",
        "db = client[nueva_bd]\n",
        "coll = db[\"amazon\"]"
      ]
    },
    {
      "cell_type": "markdown",
      "metadata": {},
      "source": [
        "Lectura del documento `amazon.json`"
      ]
    },
    {
      "cell_type": "code",
      "execution_count": 109,
      "metadata": {},
      "outputs": [
        {
          "name": "stdout",
          "output_type": "stream",
          "text": [
            "{'_id': {'$oid': '60ac3be5a0f981616012e9cc'}, 'reviewerID': 'A2IBPI20UZIR0U', 'asin': '1384719342', 'reviewerName': 'cassandra tu \"Yeah, well, that\\'s just like, u...', 'helpful': [0, 0], 'reviewText': \"Not much to write about here, but it does exactly what it's supposed to. filters out the pop sounds. now my recordings are much more crisp. it is one of the lowest prices pop filters on amazon so might as well buy it, they honestly work the same despite their pricing,\", 'overall': 5, 'summary': 'good', 'unixReviewTime': 1393545600, 'reviewTime': '02 28, 2014'}\n"
          ]
        }
      ],
      "source": [
        "# Opening JSON file\n",
        "with open('amazon.json') as json_file:\n",
        "    amazonData = json.load(json_file)\n",
        "\n",
        "print(amazonData[0])"
      ]
    },
    {
      "cell_type": "markdown",
      "metadata": {},
      "source": [
        "Inserción de la colección a la base de datos"
      ]
    },
    {
      "cell_type": "code",
      "execution_count": 13,
      "metadata": {},
      "outputs": [
        {
          "ename": "BulkWriteError",
          "evalue": "batch op errors occurred, full error: {'writeErrors': [{'index': 0, 'code': 52, 'errmsg': \"_id fields may not contain '$'-prefixed fields: $oid is not valid for storage.\", 'op': {'_id': {'$oid': '60ac3be5a0f981616012e9cc'}, 'reviewerID': 'A2IBPI20UZIR0U', 'asin': '1384719342', 'reviewerName': 'cassandra tu \"Yeah, well, that\\'s just like, u...', 'helpful': [0, 0], 'reviewText': \"Not much to write about here, but it does exactly what it's supposed to. filters out the pop sounds. now my recordings are much more crisp. it is one of the lowest prices pop filters on amazon so might as well buy it, they honestly work the same despite their pricing,\", 'overall': 5, 'summary': 'good', 'unixReviewTime': 1393545600, 'reviewTime': '02 28, 2014'}}], 'writeConcernErrors': [], 'nInserted': 0, 'nUpserted': 0, 'nMatched': 0, 'nModified': 0, 'nRemoved': 0, 'upserted': []}",
          "output_type": "error",
          "traceback": [
            "\u001b[1;31m---------------------------------------------------------------------------\u001b[0m",
            "\u001b[1;31mBulkWriteError\u001b[0m                            Traceback (most recent call last)",
            "\u001b[1;32md:\\OneDrive - Universidad Abierta y a Distancia de México\\Diplomados & Cursos\\Data Science\\DEV.F\\5. Data Wrangling\\Session-25_MongoDB\\m4-mongodb-DanielEduardoLopez\\Challenge_MongoDB.ipynb Celda 11\u001b[0m in \u001b[0;36m<cell line: 1>\u001b[1;34m()\u001b[0m\n\u001b[1;32m----> <a href='vscode-notebook-cell:/d%3A/OneDrive%20-%20Universidad%20Abierta%20y%20a%20Distancia%20de%20M%C3%A9xico/Diplomados%20%26%20Cursos/Data%20Science/DEV.F/5.%20Data%20Wrangling/Session-25_MongoDB/m4-mongodb-DanielEduardoLopez/Challenge_MongoDB.ipynb#X32sZmlsZQ%3D%3D?line=0'>1</a>\u001b[0m coll\u001b[39m.\u001b[39;49minsert_many(amazonData)\n",
            "File \u001b[1;32mc:\\Users\\DanielEduardo.Eduardo\\anaconda3\\lib\\site-packages\\pymongo\\_csot.py:105\u001b[0m, in \u001b[0;36mapply.<locals>.csot_wrapper\u001b[1;34m(self, *args, **kwargs)\u001b[0m\n\u001b[0;32m    103\u001b[0m         \u001b[39mwith\u001b[39;00m _TimeoutContext(timeout):\n\u001b[0;32m    104\u001b[0m             \u001b[39mreturn\u001b[39;00m func(\u001b[39mself\u001b[39m, \u001b[39m*\u001b[39margs, \u001b[39m*\u001b[39m\u001b[39m*\u001b[39mkwargs)\n\u001b[1;32m--> 105\u001b[0m \u001b[39mreturn\u001b[39;00m func(\u001b[39mself\u001b[39;49m, \u001b[39m*\u001b[39;49margs, \u001b[39m*\u001b[39;49m\u001b[39m*\u001b[39;49mkwargs)\n",
            "File \u001b[1;32mc:\\Users\\DanielEduardo.Eduardo\\anaconda3\\lib\\site-packages\\pymongo\\collection.py:707\u001b[0m, in \u001b[0;36mCollection.insert_many\u001b[1;34m(self, documents, ordered, bypass_document_validation, session, comment)\u001b[0m\n\u001b[0;32m    705\u001b[0m blk \u001b[39m=\u001b[39m _Bulk(\u001b[39mself\u001b[39m, ordered, bypass_document_validation, comment\u001b[39m=\u001b[39mcomment)\n\u001b[0;32m    706\u001b[0m blk\u001b[39m.\u001b[39mops \u001b[39m=\u001b[39m [doc \u001b[39mfor\u001b[39;00m doc \u001b[39min\u001b[39;00m gen()]\n\u001b[1;32m--> 707\u001b[0m blk\u001b[39m.\u001b[39;49mexecute(write_concern, session\u001b[39m=\u001b[39;49msession)\n\u001b[0;32m    708\u001b[0m \u001b[39mreturn\u001b[39;00m InsertManyResult(inserted_ids, write_concern\u001b[39m.\u001b[39macknowledged)\n",
            "File \u001b[1;32mc:\\Users\\DanielEduardo.Eduardo\\anaconda3\\lib\\site-packages\\pymongo\\bulk.py:513\u001b[0m, in \u001b[0;36m_Bulk.execute\u001b[1;34m(self, write_concern, session)\u001b[0m\n\u001b[0;32m    511\u001b[0m         \u001b[39mself\u001b[39m\u001b[39m.\u001b[39mexecute_no_results(sock_info, generator, write_concern)\n\u001b[0;32m    512\u001b[0m \u001b[39melse\u001b[39;00m:\n\u001b[1;32m--> 513\u001b[0m     \u001b[39mreturn\u001b[39;00m \u001b[39mself\u001b[39;49m\u001b[39m.\u001b[39;49mexecute_command(generator, write_concern, session)\n",
            "File \u001b[1;32mc:\\Users\\DanielEduardo.Eduardo\\anaconda3\\lib\\site-packages\\pymongo\\bulk.py:394\u001b[0m, in \u001b[0;36m_Bulk.execute_command\u001b[1;34m(self, generator, write_concern, session)\u001b[0m\n\u001b[0;32m    391\u001b[0m     client\u001b[39m.\u001b[39m_retry_with_session(\u001b[39mself\u001b[39m\u001b[39m.\u001b[39mis_retryable, retryable_bulk, s, \u001b[39mself\u001b[39m)\n\u001b[0;32m    393\u001b[0m \u001b[39mif\u001b[39;00m full_result[\u001b[39m\"\u001b[39m\u001b[39mwriteErrors\u001b[39m\u001b[39m\"\u001b[39m] \u001b[39mor\u001b[39;00m full_result[\u001b[39m\"\u001b[39m\u001b[39mwriteConcernErrors\u001b[39m\u001b[39m\"\u001b[39m]:\n\u001b[1;32m--> 394\u001b[0m     _raise_bulk_write_error(full_result)\n\u001b[0;32m    395\u001b[0m \u001b[39mreturn\u001b[39;00m full_result\n",
            "File \u001b[1;32mc:\\Users\\DanielEduardo.Eduardo\\anaconda3\\lib\\site-packages\\pymongo\\bulk.py:136\u001b[0m, in \u001b[0;36m_raise_bulk_write_error\u001b[1;34m(full_result)\u001b[0m\n\u001b[0;32m    134\u001b[0m \u001b[39mif\u001b[39;00m full_result[\u001b[39m\"\u001b[39m\u001b[39mwriteErrors\u001b[39m\u001b[39m\"\u001b[39m]:\n\u001b[0;32m    135\u001b[0m     full_result[\u001b[39m\"\u001b[39m\u001b[39mwriteErrors\u001b[39m\u001b[39m\"\u001b[39m]\u001b[39m.\u001b[39msort(key\u001b[39m=\u001b[39m\u001b[39mlambda\u001b[39;00m error: error[\u001b[39m\"\u001b[39m\u001b[39mindex\u001b[39m\u001b[39m\"\u001b[39m])\n\u001b[1;32m--> 136\u001b[0m \u001b[39mraise\u001b[39;00m BulkWriteError(full_result)\n",
            "\u001b[1;31mBulkWriteError\u001b[0m: batch op errors occurred, full error: {'writeErrors': [{'index': 0, 'code': 52, 'errmsg': \"_id fields may not contain '$'-prefixed fields: $oid is not valid for storage.\", 'op': {'_id': {'$oid': '60ac3be5a0f981616012e9cc'}, 'reviewerID': 'A2IBPI20UZIR0U', 'asin': '1384719342', 'reviewerName': 'cassandra tu \"Yeah, well, that\\'s just like, u...', 'helpful': [0, 0], 'reviewText': \"Not much to write about here, but it does exactly what it's supposed to. filters out the pop sounds. now my recordings are much more crisp. it is one of the lowest prices pop filters on amazon so might as well buy it, they honestly work the same despite their pricing,\", 'overall': 5, 'summary': 'good', 'unixReviewTime': 1393545600, 'reviewTime': '02 28, 2014'}}], 'writeConcernErrors': [], 'nInserted': 0, 'nUpserted': 0, 'nMatched': 0, 'nModified': 0, 'nRemoved': 0, 'upserted': []}"
          ]
        }
      ],
      "source": [
        "coll.insert_many(amazonData)"
      ]
    },
    {
      "cell_type": "markdown",
      "metadata": {},
      "source": [
        "An `error` appears due to the `$` symbol on the `_id` field, we will remove it using Pandas."
      ]
    },
    {
      "cell_type": "code",
      "execution_count": 91,
      "metadata": {},
      "outputs": [
        {
          "data": {
            "text/html": [
              "<div>\n",
              "<style scoped>\n",
              "    .dataframe tbody tr th:only-of-type {\n",
              "        vertical-align: middle;\n",
              "    }\n",
              "\n",
              "    .dataframe tbody tr th {\n",
              "        vertical-align: top;\n",
              "    }\n",
              "\n",
              "    .dataframe thead th {\n",
              "        text-align: right;\n",
              "    }\n",
              "</style>\n",
              "<table border=\"1\" class=\"dataframe\">\n",
              "  <thead>\n",
              "    <tr style=\"text-align: right;\">\n",
              "      <th></th>\n",
              "      <th>_id</th>\n",
              "      <th>reviewerID</th>\n",
              "      <th>asin</th>\n",
              "      <th>reviewerName</th>\n",
              "      <th>helpful</th>\n",
              "      <th>reviewText</th>\n",
              "      <th>overall</th>\n",
              "      <th>summary</th>\n",
              "      <th>unixReviewTime</th>\n",
              "      <th>reviewTime</th>\n",
              "    </tr>\n",
              "  </thead>\n",
              "  <tbody>\n",
              "    <tr>\n",
              "      <th>0</th>\n",
              "      <td>{'$oid': '60ac3be5a0f981616012e9cc'}</td>\n",
              "      <td>A2IBPI20UZIR0U</td>\n",
              "      <td>1384719342</td>\n",
              "      <td>cassandra tu \"Yeah, well, that's just like, u...</td>\n",
              "      <td>[0, 0]</td>\n",
              "      <td>Not much to write about here, but it does exac...</td>\n",
              "      <td>5</td>\n",
              "      <td>good</td>\n",
              "      <td>1393545600</td>\n",
              "      <td>02 28, 2014</td>\n",
              "    </tr>\n",
              "    <tr>\n",
              "      <th>1</th>\n",
              "      <td>{'$oid': '60ac3be5a0f981616012e9cd'}</td>\n",
              "      <td>A14VAT5EAX3D9S</td>\n",
              "      <td>1384719342</td>\n",
              "      <td>Jake</td>\n",
              "      <td>[13, 14]</td>\n",
              "      <td>The product does exactly as it should and is q...</td>\n",
              "      <td>5</td>\n",
              "      <td>Jake</td>\n",
              "      <td>1363392000</td>\n",
              "      <td>03 16, 2013</td>\n",
              "    </tr>\n",
              "    <tr>\n",
              "      <th>2</th>\n",
              "      <td>{'$oid': '60ac3be5a0f981616012e9ce'}</td>\n",
              "      <td>A195EZSQDW3E21</td>\n",
              "      <td>1384719342</td>\n",
              "      <td>Rick Bennette \"Rick Bennette\"</td>\n",
              "      <td>[1, 1]</td>\n",
              "      <td>The primary job of this device is to block the...</td>\n",
              "      <td>5</td>\n",
              "      <td>It Does The Job Well</td>\n",
              "      <td>1377648000</td>\n",
              "      <td>08 28, 2013</td>\n",
              "    </tr>\n",
              "    <tr>\n",
              "      <th>3</th>\n",
              "      <td>{'$oid': '60ac3be5a0f981616012e9cf'}</td>\n",
              "      <td>A2C00NNG1ZQQG2</td>\n",
              "      <td>1384719342</td>\n",
              "      <td>RustyBill \"Sunday Rocker\"</td>\n",
              "      <td>[0, 0]</td>\n",
              "      <td>Nice windscreen protects my MXL mic and preven...</td>\n",
              "      <td>5</td>\n",
              "      <td>GOOD WINDSCREEN FOR THE MONEY</td>\n",
              "      <td>1392336000</td>\n",
              "      <td>02 14, 2014</td>\n",
              "    </tr>\n",
              "    <tr>\n",
              "      <th>4</th>\n",
              "      <td>{'$oid': '60ac3be5a0f981616012e9d0'}</td>\n",
              "      <td>A94QU4C90B1AX</td>\n",
              "      <td>1384719342</td>\n",
              "      <td>SEAN MASLANKA</td>\n",
              "      <td>[0, 0]</td>\n",
              "      <td>This pop filter is great. It looks and perform...</td>\n",
              "      <td>5</td>\n",
              "      <td>No more pops when I record my vocals.</td>\n",
              "      <td>1392940800</td>\n",
              "      <td>02 21, 2014</td>\n",
              "    </tr>\n",
              "  </tbody>\n",
              "</table>\n",
              "</div>"
            ],
            "text/plain": [
              "                                    _id      reviewerID        asin  \\\n",
              "0  {'$oid': '60ac3be5a0f981616012e9cc'}  A2IBPI20UZIR0U  1384719342   \n",
              "1  {'$oid': '60ac3be5a0f981616012e9cd'}  A14VAT5EAX3D9S  1384719342   \n",
              "2  {'$oid': '60ac3be5a0f981616012e9ce'}  A195EZSQDW3E21  1384719342   \n",
              "3  {'$oid': '60ac3be5a0f981616012e9cf'}  A2C00NNG1ZQQG2  1384719342   \n",
              "4  {'$oid': '60ac3be5a0f981616012e9d0'}   A94QU4C90B1AX  1384719342   \n",
              "\n",
              "                                       reviewerName   helpful  \\\n",
              "0  cassandra tu \"Yeah, well, that's just like, u...    [0, 0]   \n",
              "1                                              Jake  [13, 14]   \n",
              "2                     Rick Bennette \"Rick Bennette\"    [1, 1]   \n",
              "3                         RustyBill \"Sunday Rocker\"    [0, 0]   \n",
              "4                                     SEAN MASLANKA    [0, 0]   \n",
              "\n",
              "                                          reviewText  overall  \\\n",
              "0  Not much to write about here, but it does exac...        5   \n",
              "1  The product does exactly as it should and is q...        5   \n",
              "2  The primary job of this device is to block the...        5   \n",
              "3  Nice windscreen protects my MXL mic and preven...        5   \n",
              "4  This pop filter is great. It looks and perform...        5   \n",
              "\n",
              "                                 summary  unixReviewTime   reviewTime  \n",
              "0                                   good      1393545600  02 28, 2014  \n",
              "1                                   Jake      1363392000  03 16, 2013  \n",
              "2                   It Does The Job Well      1377648000  08 28, 2013  \n",
              "3          GOOD WINDSCREEN FOR THE MONEY      1392336000  02 14, 2014  \n",
              "4  No more pops when I record my vocals.      1392940800  02 21, 2014  "
            ]
          },
          "execution_count": 91,
          "metadata": {},
          "output_type": "execute_result"
        }
      ],
      "source": [
        "import pandas as pd\n",
        "\n",
        "amazondf = pd.read_json('amazon.json')\n",
        "amazondf.head()"
      ]
    },
    {
      "cell_type": "code",
      "execution_count": 92,
      "metadata": {},
      "outputs": [],
      "source": [
        "def wrangler(row):\n",
        "    \"\"\"\n",
        "    This function removes the '$' symbol from the key if the observation is a dictionary\n",
        "    \"\"\"\n",
        "    if type(row) == dict:\n",
        "        keys_values  = row.items()\n",
        "        new_v = {str(key).replace('$', ''): str(value) for key, value in keys_values}\n",
        "\n",
        "    return new_v"
      ]
    },
    {
      "cell_type": "code",
      "execution_count": 93,
      "metadata": {},
      "outputs": [
        {
          "data": {
            "text/html": [
              "<div>\n",
              "<style scoped>\n",
              "    .dataframe tbody tr th:only-of-type {\n",
              "        vertical-align: middle;\n",
              "    }\n",
              "\n",
              "    .dataframe tbody tr th {\n",
              "        vertical-align: top;\n",
              "    }\n",
              "\n",
              "    .dataframe thead th {\n",
              "        text-align: right;\n",
              "    }\n",
              "</style>\n",
              "<table border=\"1\" class=\"dataframe\">\n",
              "  <thead>\n",
              "    <tr style=\"text-align: right;\">\n",
              "      <th></th>\n",
              "      <th>_id</th>\n",
              "      <th>reviewerID</th>\n",
              "      <th>asin</th>\n",
              "      <th>reviewerName</th>\n",
              "      <th>helpful</th>\n",
              "      <th>reviewText</th>\n",
              "      <th>overall</th>\n",
              "      <th>summary</th>\n",
              "      <th>unixReviewTime</th>\n",
              "      <th>reviewTime</th>\n",
              "    </tr>\n",
              "  </thead>\n",
              "  <tbody>\n",
              "    <tr>\n",
              "      <th>0</th>\n",
              "      <td>{'oid': '60ac3be5a0f981616012e9cc'}</td>\n",
              "      <td>A2IBPI20UZIR0U</td>\n",
              "      <td>1384719342</td>\n",
              "      <td>cassandra tu \"Yeah, well, that's just like, u...</td>\n",
              "      <td>[0, 0]</td>\n",
              "      <td>Not much to write about here, but it does exac...</td>\n",
              "      <td>5</td>\n",
              "      <td>good</td>\n",
              "      <td>1393545600</td>\n",
              "      <td>02 28, 2014</td>\n",
              "    </tr>\n",
              "    <tr>\n",
              "      <th>1</th>\n",
              "      <td>{'oid': '60ac3be5a0f981616012e9cd'}</td>\n",
              "      <td>A14VAT5EAX3D9S</td>\n",
              "      <td>1384719342</td>\n",
              "      <td>Jake</td>\n",
              "      <td>[13, 14]</td>\n",
              "      <td>The product does exactly as it should and is q...</td>\n",
              "      <td>5</td>\n",
              "      <td>Jake</td>\n",
              "      <td>1363392000</td>\n",
              "      <td>03 16, 2013</td>\n",
              "    </tr>\n",
              "    <tr>\n",
              "      <th>2</th>\n",
              "      <td>{'oid': '60ac3be5a0f981616012e9ce'}</td>\n",
              "      <td>A195EZSQDW3E21</td>\n",
              "      <td>1384719342</td>\n",
              "      <td>Rick Bennette \"Rick Bennette\"</td>\n",
              "      <td>[1, 1]</td>\n",
              "      <td>The primary job of this device is to block the...</td>\n",
              "      <td>5</td>\n",
              "      <td>It Does The Job Well</td>\n",
              "      <td>1377648000</td>\n",
              "      <td>08 28, 2013</td>\n",
              "    </tr>\n",
              "    <tr>\n",
              "      <th>3</th>\n",
              "      <td>{'oid': '60ac3be5a0f981616012e9cf'}</td>\n",
              "      <td>A2C00NNG1ZQQG2</td>\n",
              "      <td>1384719342</td>\n",
              "      <td>RustyBill \"Sunday Rocker\"</td>\n",
              "      <td>[0, 0]</td>\n",
              "      <td>Nice windscreen protects my MXL mic and preven...</td>\n",
              "      <td>5</td>\n",
              "      <td>GOOD WINDSCREEN FOR THE MONEY</td>\n",
              "      <td>1392336000</td>\n",
              "      <td>02 14, 2014</td>\n",
              "    </tr>\n",
              "    <tr>\n",
              "      <th>4</th>\n",
              "      <td>{'oid': '60ac3be5a0f981616012e9d0'}</td>\n",
              "      <td>A94QU4C90B1AX</td>\n",
              "      <td>1384719342</td>\n",
              "      <td>SEAN MASLANKA</td>\n",
              "      <td>[0, 0]</td>\n",
              "      <td>This pop filter is great. It looks and perform...</td>\n",
              "      <td>5</td>\n",
              "      <td>No more pops when I record my vocals.</td>\n",
              "      <td>1392940800</td>\n",
              "      <td>02 21, 2014</td>\n",
              "    </tr>\n",
              "  </tbody>\n",
              "</table>\n",
              "</div>"
            ],
            "text/plain": [
              "                                   _id      reviewerID        asin  \\\n",
              "0  {'oid': '60ac3be5a0f981616012e9cc'}  A2IBPI20UZIR0U  1384719342   \n",
              "1  {'oid': '60ac3be5a0f981616012e9cd'}  A14VAT5EAX3D9S  1384719342   \n",
              "2  {'oid': '60ac3be5a0f981616012e9ce'}  A195EZSQDW3E21  1384719342   \n",
              "3  {'oid': '60ac3be5a0f981616012e9cf'}  A2C00NNG1ZQQG2  1384719342   \n",
              "4  {'oid': '60ac3be5a0f981616012e9d0'}   A94QU4C90B1AX  1384719342   \n",
              "\n",
              "                                       reviewerName   helpful  \\\n",
              "0  cassandra tu \"Yeah, well, that's just like, u...    [0, 0]   \n",
              "1                                              Jake  [13, 14]   \n",
              "2                     Rick Bennette \"Rick Bennette\"    [1, 1]   \n",
              "3                         RustyBill \"Sunday Rocker\"    [0, 0]   \n",
              "4                                     SEAN MASLANKA    [0, 0]   \n",
              "\n",
              "                                          reviewText  overall  \\\n",
              "0  Not much to write about here, but it does exac...        5   \n",
              "1  The product does exactly as it should and is q...        5   \n",
              "2  The primary job of this device is to block the...        5   \n",
              "3  Nice windscreen protects my MXL mic and preven...        5   \n",
              "4  This pop filter is great. It looks and perform...        5   \n",
              "\n",
              "                                 summary  unixReviewTime   reviewTime  \n",
              "0                                   good      1393545600  02 28, 2014  \n",
              "1                                   Jake      1363392000  03 16, 2013  \n",
              "2                   It Does The Job Well      1377648000  08 28, 2013  \n",
              "3          GOOD WINDSCREEN FOR THE MONEY      1392336000  02 14, 2014  \n",
              "4  No more pops when I record my vocals.      1392940800  02 21, 2014  "
            ]
          },
          "execution_count": 93,
          "metadata": {},
          "output_type": "execute_result"
        }
      ],
      "source": [
        "amazondf['_id'] = amazondf['_id'].map(lambda x: wrangler(x))\n",
        "amazondf.head()"
      ]
    },
    {
      "cell_type": "code",
      "execution_count": 126,
      "metadata": {},
      "outputs": [
        {
          "data": {
            "text/plain": [
              "[{'_id': {'oid': '60ac3be5a0f981616012e9cc'},\n",
              "  'reviewerID': 'A2IBPI20UZIR0U',\n",
              "  'asin': '1384719342',\n",
              "  'reviewerName': 'cassandra tu \"Yeah, well, that\\'s just like, u...',\n",
              "  'helpful': [0, 0],\n",
              "  'reviewText': \"Not much to write about here, but it does exactly what it's supposed to. filters out the pop sounds. now my recordings are much more crisp. it is one of the lowest prices pop filters on amazon so might as well buy it, they honestly work the same despite their pricing,\",\n",
              "  'overall': 5,\n",
              "  'summary': 'good',\n",
              "  'unixReviewTime': 1393545600,\n",
              "  'reviewTime': '02 28, 2014'},\n",
              " {'_id': {'oid': '60ac3be5a0f981616012e9cd'},\n",
              "  'reviewerID': 'A14VAT5EAX3D9S',\n",
              "  'asin': '1384719342',\n",
              "  'reviewerName': 'Jake',\n",
              "  'helpful': [13, 14],\n",
              "  'reviewText': \"The product does exactly as it should and is quite affordable.I did not realized it was double screened until it arrived, so it was even better than I had expected.As an added bonus, one of the screens carries a small hint of the smell of an old grape candy I used to buy, so for reminiscent's sake, I cannot stop putting the pop filter next to my nose and smelling it after recording. :DIf you needed a pop filter, this will work just as well as the expensive ones, and it may even come with a pleasing aroma like mine did!Buy this product! :]\",\n",
              "  'overall': 5,\n",
              "  'summary': 'Jake',\n",
              "  'unixReviewTime': 1363392000,\n",
              "  'reviewTime': '03 16, 2013'},\n",
              " {'_id': {'oid': '60ac3be5a0f981616012e9ce'},\n",
              "  'reviewerID': 'A195EZSQDW3E21',\n",
              "  'asin': '1384719342',\n",
              "  'reviewerName': 'Rick Bennette \"Rick Bennette\"',\n",
              "  'helpful': [1, 1],\n",
              "  'reviewText': 'The primary job of this device is to block the breath that would otherwise produce a popping sound, while allowing your voice to pass through with no noticeable reduction of volume or high frequencies. The double cloth filter blocks the pops and lets the voice through with no coloration. The metal clamp mount attaches to the mike stand secure enough to keep it attached. The goose neck needs a little coaxing to stay where you put it.',\n",
              "  'overall': 5,\n",
              "  'summary': 'It Does The Job Well',\n",
              "  'unixReviewTime': 1377648000,\n",
              "  'reviewTime': '08 28, 2013'},\n",
              " {'_id': {'oid': '60ac3be5a0f981616012e9cf'},\n",
              "  'reviewerID': 'A2C00NNG1ZQQG2',\n",
              "  'asin': '1384719342',\n",
              "  'reviewerName': 'RustyBill \"Sunday Rocker\"',\n",
              "  'helpful': [0, 0],\n",
              "  'reviewText': 'Nice windscreen protects my MXL mic and prevents pops. Only thing is that the gooseneck is only marginally able to hold the screen in position and requires careful positioning of the clamp to avoid sagging.',\n",
              "  'overall': 5,\n",
              "  'summary': 'GOOD WINDSCREEN FOR THE MONEY',\n",
              "  'unixReviewTime': 1392336000,\n",
              "  'reviewTime': '02 14, 2014'},\n",
              " {'_id': {'oid': '60ac3be5a0f981616012e9d0'},\n",
              "  'reviewerID': 'A94QU4C90B1AX',\n",
              "  'asin': '1384719342',\n",
              "  'reviewerName': 'SEAN MASLANKA',\n",
              "  'helpful': [0, 0],\n",
              "  'reviewText': \"This pop filter is great. It looks and performs like a studio filter. If you're recording vocals this will eliminate the pops that gets recorded when you sing.\",\n",
              "  'overall': 5,\n",
              "  'summary': 'No more pops when I record my vocals.',\n",
              "  'unixReviewTime': 1392940800,\n",
              "  'reviewTime': '02 21, 2014'}]"
            ]
          },
          "execution_count": 126,
          "metadata": {},
          "output_type": "execute_result"
        }
      ],
      "source": [
        "amazon_clean = []\n",
        "\n",
        "for i in amazondf.iterrows():\n",
        "    row = i[1:][0]\n",
        "    row_dict = row.to_dict()\n",
        "    amazon_clean.append(row_dict)\n",
        "\n",
        "amazon_clean[:5]"
      ]
    },
    {
      "cell_type": "code",
      "execution_count": 127,
      "metadata": {},
      "outputs": [
        {
          "data": {
            "text/plain": [
              "<pymongo.results.InsertManyResult at 0x2710fef0a90>"
            ]
          },
          "execution_count": 127,
          "metadata": {},
          "output_type": "execute_result"
        }
      ],
      "source": [
        "coll.insert_many(amazon_clean)"
      ]
    },
    {
      "cell_type": "markdown",
      "metadata": {},
      "source": [
        "Inserción exitosa de los documentos!"
      ]
    },
    {
      "cell_type": "markdown",
      "metadata": {
        "id": "7zzPv6aHum9o"
      },
      "source": [
        "# Obtener el año en el que tuvimos más reseñas.\n",
        "\n"
      ]
    },
    {
      "cell_type": "code",
      "execution_count": 166,
      "metadata": {},
      "outputs": [
        {
          "name": "stdout",
          "output_type": "stream",
          "text": [
            "Año: 2003 --> Número de reseñas: 0.\n",
            "Año: 2004 --> Número de reseñas: 6.\n",
            "Año: 2005 --> Número de reseñas: 4.\n",
            "Año: 2006 --> Número de reseñas: 8.\n",
            "Año: 2007 --> Número de reseñas: 21.\n",
            "Año: 2008 --> Número de reseñas: 43.\n",
            "Año: 2009 --> Número de reseñas: 99.\n",
            "Año: 2010 --> Número de reseñas: 262.\n",
            "Año: 2011 --> Número de reseñas: 738.\n",
            "Año: 2012 --> Número de reseñas: 1439.\n",
            "Año: 2013 --> Número de reseñas: 2779.\n",
            "Año: 2014 --> Número de reseñas: 1738.\n",
            "Año: 2015 --> Número de reseñas: 0.\n"
          ]
        }
      ],
      "source": [
        "# Query for counting the number of documents per year\n",
        "\n",
        "for i in list(range(2003, 2016)):\n",
        "\n",
        "        query = {\n",
        "                \"reviewTime\": {                \n",
        "                \"$regex\": f'^.{{7}}{i}$',\n",
        "                \"$options\" :'i' # case-insensitive\n",
        "                }\n",
        "                }\n",
        "        results = coll.count_documents(query)\n",
        "        print(f'Año: {i} --> Número de reseñas: {results}.') "
      ]
    },
    {
      "cell_type": "markdown",
      "metadata": {},
      "source": [
        "El año en que más se obtuvieron reseñas fue **2014**."
      ]
    },
    {
      "cell_type": "markdown",
      "metadata": {
        "id": "ZOYiGV6J50SD"
      },
      "source": [
        "# Obtener únicamente las reseñas del año con más reseñas.\n",
        "\n"
      ]
    },
    {
      "cell_type": "code",
      "execution_count": 170,
      "metadata": {
        "id": "B9-IJFdzO1Qz"
      },
      "outputs": [
        {
          "data": {
            "text/plain": [
              "[{'_id': {'oid': '60ac3be5a0f981616012e9cc'},\n",
              "  'reviewerID': 'A2IBPI20UZIR0U',\n",
              "  'asin': '1384719342',\n",
              "  'reviewerName': 'cassandra tu \"Yeah, well, that\\'s just like, u...',\n",
              "  'helpful': [0, 0],\n",
              "  'reviewText': \"Not much to write about here, but it does exactly what it's supposed to. filters out the pop sounds. now my recordings are much more crisp. it is one of the lowest prices pop filters on amazon so might as well buy it, they honestly work the same despite their pricing,\",\n",
              "  'overall': 5,\n",
              "  'summary': 'good',\n",
              "  'unixReviewTime': 1393545600,\n",
              "  'reviewTime': '02 28, 2014'},\n",
              " {'_id': {'oid': '60ac3be5a0f981616012e9cf'},\n",
              "  'reviewerID': 'A2C00NNG1ZQQG2',\n",
              "  'asin': '1384719342',\n",
              "  'reviewerName': 'RustyBill \"Sunday Rocker\"',\n",
              "  'helpful': [0, 0],\n",
              "  'reviewText': 'Nice windscreen protects my MXL mic and prevents pops. Only thing is that the gooseneck is only marginally able to hold the screen in position and requires careful positioning of the clamp to avoid sagging.',\n",
              "  'overall': 5,\n",
              "  'summary': 'GOOD WINDSCREEN FOR THE MONEY',\n",
              "  'unixReviewTime': 1392336000,\n",
              "  'reviewTime': '02 14, 2014'}]"
            ]
          },
          "execution_count": 170,
          "metadata": {},
          "output_type": "execute_result"
        }
      ],
      "source": [
        "# Regex expression to retrieve only 2014 records\n",
        "query = {\n",
        "        \"reviewTime\": {        \n",
        "        \"$regex\": '^.{7}2014$'\n",
        "        }\n",
        "        }\n",
        "\n",
        "results = coll.find(query)\n",
        "\n",
        "# List for storing the results\n",
        "reseñas2014 = [] \n",
        "\n",
        "for reseña in results:\n",
        "        reseñas2014.append(reseña)\n",
        "\n",
        "# Showing only first two documents\n",
        "reseñas2014[:2] \n"
      ]
    },
    {
      "cell_type": "markdown",
      "metadata": {
        "id": "LTCahi2Bcgps"
      },
      "source": [
        "# Filtrar las reseñas para quedarnos únicamente con las calificaciones más altas y las más bajas."
      ]
    },
    {
      "cell_type": "code",
      "execution_count": 186,
      "metadata": {
        "id": "UY6SsDTE8CU9"
      },
      "outputs": [
        {
          "data": {
            "text/plain": [
              "1222"
            ]
          },
          "execution_count": 186,
          "metadata": {},
          "output_type": "execute_result"
        }
      ],
      "source": [
        "# Query for retrieving only the reviews with the highest and the lowest scores from year 2014\n",
        "query = {\n",
        "        \"reviewTime\": {        \n",
        "        \"$regex\": '^.{7}2014$'\n",
        "        },\n",
        "        \"$or\": [{\"overall\": 5}, {\"overall\": 1}]\n",
        "        }\n",
        "\n",
        "results = coll.find(query)\n",
        "\n",
        "# List for storing the reviews with the highest and the lowest scores\n",
        "cal_altas_bajas = [] \n",
        "\n",
        "for reseña in results:\n",
        "        cal_altas_bajas.append(reseña)\n",
        "\n",
        "# Length of the retrieved documents\n",
        "len(cal_altas_bajas)\n"
      ]
    },
    {
      "cell_type": "markdown",
      "metadata": {
        "id": "96XjJEYq8HQH"
      },
      "source": [
        "# Mediante un aggregation, obtener las reseñas \"neutrales\" y etiquetarlas como \"neutral\" en el resultado de la consulta."
      ]
    },
    {
      "cell_type": "code",
      "execution_count": 189,
      "metadata": {
        "id": "QtIhaFuR8Sp5"
      },
      "outputs": [
        {
          "name": "stdout",
          "output_type": "stream",
          "text": [
            "[{'_id': {'oid': '60ac3be5a0f981616012e9d3'}, 'reviewerID': 'AJNFQI3YR6XJ5', 'asin': 'B00004Y2UT', 'reviewerName': 'Fender Guy \"Rick\"', 'helpful': [0, 0], 'reviewText': \"I now use this cable to run from the output of my pedal chain to the input of my Fender Amp. After I bought Monster Cable to hook up my pedal board I thought I would try another one and update my guitar. I had been using a high end Planet Waves cable that I bought in the 1980's... Once I found out the input jacks on the new Monster cable didn't fit into the Fender Strat jack I was a little disappointed... I didn't return it and as stated I use it for the output on the pedal board. Save your money... I went back to my Planet Waves Cable...I payed $30.00 back in the eighties for the Planet Waves which now comes in at around $50.00. What I'm getting at is you get what you pay for. I thought Waves was a lot of money back in the day...but I haven't bought a guitar cable since this one...20 plus years and still working...Planet Waves wins.\", 'overall': 3, 'summary': \"Didn't fit my 1996 Fender Strat...\", 'unixReviewTime': 1353024000, 'reviewTime': '11 16, 2012', 'label': 'neutral'}, {'_id': {'oid': '60ac3be5a0f981616012e9d8'}, 'reviewerID': 'A2NIT6BKW11XJQ', 'asin': 'B00005ML71', 'reviewerName': 'Jai', 'helpful': [0, 0], 'reviewText': 'If you are not use to using a large sustaining pedal while playing the piano, it may appear little awkward.', 'overall': 3, 'summary': 'HAS TO GET USE TO THE SIZE', 'unixReviewTime': 1384646400, 'reviewTime': '11 17, 2013', 'label': 'neutral'}, {'_id': {'oid': '60ac3be5a0f981616012ea07'}, 'reviewerID': 'A3LNNEYLGGCO25', 'asin': 'B000068NW5', 'reviewerName': 'Hans R', 'helpful': [0, 0], 'reviewText': \"Works for practice ... it's a guitar instrument cable, what can I say ... maybe not the best but it serves it's purpose.\", 'overall': 3, 'summary': \"maybe not the best but it serves it's purpose\", 'unixReviewTime': 1404518400, 'reviewTime': '07 5, 2014', 'label': 'neutral'}]\n"
          ]
        }
      ],
      "source": [
        "# Aggregation Function\n",
        "neutral_reviews = db.amazon.aggregate(\n",
        "    [\n",
        "      {\n",
        "          '$match': {\n",
        "              'overall': 3              \n",
        "          }\n",
        "      }, {\n",
        "          '$addFields': {\n",
        "              'label': 'neutral'\n",
        "          }\n",
        "      }]\n",
        "\n",
        ")\n",
        "\n",
        "# Displaying first three results\n",
        "print(list(neutral_reviews)[:3])"
      ]
    },
    {
      "cell_type": "markdown",
      "metadata": {
        "id": "GYTSEmC88UQI"
      },
      "source": [
        "# Obtener el título y el nombre del autor, de las reseñas con mejores calificaciones."
      ]
    },
    {
      "cell_type": "code",
      "execution_count": 193,
      "metadata": {
        "id": "rwCo5okz8crL"
      },
      "outputs": [
        {
          "data": {
            "text/plain": [
              "[{'Title': 'good',\n",
              "  'Name': 'cassandra tu \"Yeah, well, that\\'s just like, u...'},\n",
              " {'Title': 'GOOD WINDSCREEN FOR THE MONEY',\n",
              "  'Name': 'RustyBill \"Sunday Rocker\"'},\n",
              " {'Title': 'No more pops when I record my vocals.', 'Name': 'SEAN MASLANKA'},\n",
              " {'Title': \"Monster Standard 100 - 21' Instrument Cable\", 'Name': 'Brian'},\n",
              " {'Title': 'Fender 18 Feet California Clear Instrument Cable - Lake Placid Blue',\n",
              "  'Name': 'Ricky Shows'}]"
            ]
          },
          "execution_count": 193,
          "metadata": {},
          "output_type": "execute_result"
        }
      ],
      "source": [
        "# Query for retrieving the reviews with the highest scores from year 2014\n",
        "query = {\n",
        "        \"reviewTime\": {        \n",
        "        \"$regex\": '^.{7}2014$'\n",
        "        },\n",
        "        \"overall\": 5\n",
        "        }\n",
        "\n",
        "results = coll.find(query)\n",
        "\n",
        "# List for storing the title and reviewer Name of the reviews with the highest scores\n",
        "title_name = [] \n",
        "\n",
        "for reseña in results:\n",
        "        title_name.append({'Title': reseña['summary'], 'Name' : reseña['reviewerName']}) # Title and name of the reviewer as a dict\n",
        "\n",
        "# First 5 results\n",
        "title_name[:5]\n"
      ]
    },
    {
      "cell_type": "code",
      "execution_count": null,
      "metadata": {},
      "outputs": [],
      "source": [
        "#End"
      ]
    }
  ],
  "metadata": {
    "colab": {
      "collapsed_sections": [],
      "name": "Challenge.ipynb",
      "provenance": []
    },
    "kernelspec": {
      "display_name": "Python 3.8.8 ('base')",
      "language": "python",
      "name": "python3"
    },
    "language_info": {
      "codemirror_mode": {
        "name": "ipython",
        "version": 3
      },
      "file_extension": ".py",
      "mimetype": "text/x-python",
      "name": "python",
      "nbconvert_exporter": "python",
      "pygments_lexer": "ipython3",
      "version": "3.8.8"
    },
    "vscode": {
      "interpreter": {
        "hash": "6e975f9d2f60b4d9c1da07316fa345238690997a135e24c2e358becc5092ba7f"
      }
    }
  },
  "nbformat": 4,
  "nbformat_minor": 0
}
